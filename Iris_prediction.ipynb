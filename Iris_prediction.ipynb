{
  "nbformat": 4,
  "nbformat_minor": 0,
  "metadata": {
    "colab": {
      "name": "Iris_prediction.ipynb",
      "provenance": [],
      "authorship_tag": "ABX9TyNyd3CdfN7gTqq+W/LwYdeA"
    },
    "kernelspec": {
      "name": "python3",
      "display_name": "Python 3"
    }
  },
  "cells": [
    {
      "cell_type": "code",
      "metadata": {
        "id": "y60kE_TBcyAx",
        "colab_type": "code",
        "colab": {}
      },
      "source": [
        "import numpy as np\n",
        "import pandas as pd"
      ],
      "execution_count": 12,
      "outputs": []
    },
    {
      "cell_type": "code",
      "metadata": {
        "id": "C9oHa75fdgro",
        "colab_type": "code",
        "colab": {}
      },
      "source": [
        "from sklearn.datasets import load_iris\n",
        "iris = load_iris()"
      ],
      "execution_count": 13,
      "outputs": []
    },
    {
      "cell_type": "code",
      "metadata": {
        "id": "c1OSL42zduJC",
        "colab_type": "code",
        "colab": {}
      },
      "source": [
        "x = iris.data\n",
        "y = iris.target\n",
        "\n",
        "features_names = iris.feature_names\n",
        "target_name = iris.target_names\n"
      ],
      "execution_count": 14,
      "outputs": []
    },
    {
      "cell_type": "code",
      "metadata": {
        "id": "XndBCWzofHz_",
        "colab_type": "code",
        "colab": {
          "base_uri": "https://localhost:8080/",
          "height": 306
        },
        "outputId": "1d1f313a-888d-4b06-e79d-11b356225c9c"
      },
      "source": [
        "print(features_names)\n",
        "print(target_name)\n",
        "\n",
        "print(x[:10],y)"
      ],
      "execution_count": 15,
      "outputs": [
        {
          "output_type": "stream",
          "text": [
            "['sepal length (cm)', 'sepal width (cm)', 'petal length (cm)', 'petal width (cm)']\n",
            "['setosa' 'versicolor' 'virginica']\n",
            "[[5.1 3.5 1.4 0.2]\n",
            " [4.9 3.  1.4 0.2]\n",
            " [4.7 3.2 1.3 0.2]\n",
            " [4.6 3.1 1.5 0.2]\n",
            " [5.  3.6 1.4 0.2]\n",
            " [5.4 3.9 1.7 0.4]\n",
            " [4.6 3.4 1.4 0.3]\n",
            " [5.  3.4 1.5 0.2]\n",
            " [4.4 2.9 1.4 0.2]\n",
            " [4.9 3.1 1.5 0.1]] [0 0 0 0 0 0 0 0 0 0 0 0 0 0 0 0 0 0 0 0 0 0 0 0 0 0 0 0 0 0 0 0 0 0 0 0 0\n",
            " 0 0 0 0 0 0 0 0 0 0 0 0 0 1 1 1 1 1 1 1 1 1 1 1 1 1 1 1 1 1 1 1 1 1 1 1 1\n",
            " 1 1 1 1 1 1 1 1 1 1 1 1 1 1 1 1 1 1 1 1 1 1 1 1 1 1 2 2 2 2 2 2 2 2 2 2 2\n",
            " 2 2 2 2 2 2 2 2 2 2 2 2 2 2 2 2 2 2 2 2 2 2 2 2 2 2 2 2 2 2 2 2 2 2 2 2 2\n",
            " 2 2]\n"
          ],
          "name": "stdout"
        }
      ]
    },
    {
      "cell_type": "code",
      "metadata": {
        "id": "2m2OueuafPHR",
        "colab_type": "code",
        "colab": {}
      },
      "source": [
        ""
      ],
      "execution_count": null,
      "outputs": []
    },
    {
      "cell_type": "markdown",
      "metadata": {
        "id": "NhRDEfdzfmf3",
        "colab_type": "text"
      },
      "source": [
        "Spilitting the dataset"
      ]
    },
    {
      "cell_type": "code",
      "metadata": {
        "id": "Iyf7qFfdftn0",
        "colab_type": "code",
        "colab": {
          "base_uri": "https://localhost:8080/",
          "height": 84
        },
        "outputId": "7367b85c-142a-448a-9e1f-f4072eb241ac"
      },
      "source": [
        "from sklearn.model_selection import train_test_split\n",
        "\n",
        "x_train, x_test, y_train, y_test = train_test_split(x,y,test_size = 0.3)\n",
        "\n",
        "print(x_train.shape)\n",
        "print(x_test.shape)\n",
        "\n",
        "print(y_train.shape)\n",
        "print(y_test.shape)"
      ],
      "execution_count": 24,
      "outputs": [
        {
          "output_type": "stream",
          "text": [
            "(105, 4)\n",
            "(45, 4)\n",
            "(105,)\n",
            "(45,)\n"
          ],
          "name": "stdout"
        }
      ]
    },
    {
      "cell_type": "code",
      "metadata": {
        "id": "9DCkiinNgbne",
        "colab_type": "code",
        "colab": {
          "base_uri": "https://localhost:8080/",
          "height": 101
        },
        "outputId": "e018d83b-e406-4122-ff91-d71fa2cbcf02"
      },
      "source": [
        "y_train"
      ],
      "execution_count": 25,
      "outputs": [
        {
          "output_type": "execute_result",
          "data": {
            "text/plain": [
              "array([2, 2, 0, 0, 1, 0, 0, 1, 1, 1, 2, 1, 0, 1, 1, 0, 1, 2, 0, 2, 2, 0,\n",
              "       2, 1, 0, 1, 0, 1, 1, 2, 1, 2, 0, 0, 2, 1, 2, 2, 2, 1, 1, 1, 2, 0,\n",
              "       1, 0, 1, 2, 0, 2, 0, 1, 2, 0, 2, 2, 0, 2, 0, 1, 2, 2, 2, 1, 2, 0,\n",
              "       1, 1, 2, 2, 0, 2, 0, 0, 1, 2, 0, 1, 1, 0, 1, 2, 0, 1, 0, 0, 0, 0,\n",
              "       0, 0, 1, 2, 1, 1, 2, 0, 2, 0, 1, 2, 0, 2, 2, 0, 2])"
            ]
          },
          "metadata": {
            "tags": []
          },
          "execution_count": 25
        }
      ]
    },
    {
      "cell_type": "markdown",
      "metadata": {
        "id": "SWxzAht6g1d5",
        "colab_type": "text"
      },
      "source": [
        "Training the model"
      ]
    },
    {
      "cell_type": "code",
      "metadata": {
        "id": "YfVgB3Prg4QS",
        "colab_type": "code",
        "colab": {}
      },
      "source": [
        "from sklearn.neighbors import KNeighborsClassifier\n",
        "from sklearn import metrics\n",
        "\n",
        "classifier_knn = KNeighborsClassifier(n_neighbors = 3)\n",
        "classifier_knn.fit(x_train, y_train)\n",
        "y_pred = classifier_knn.predict(x_test)"
      ],
      "execution_count": 30,
      "outputs": []
    },
    {
      "cell_type": "code",
      "metadata": {
        "id": "btETSMhuieJN",
        "colab_type": "code",
        "colab": {
          "base_uri": "https://localhost:8080/",
          "height": 34
        },
        "outputId": "d54f1cba-75f7-4694-cb05-1c783b575fd9"
      },
      "source": [
        "print(\"Accuracy\", metrics.accuracy_score(y_test,y_pred))"
      ],
      "execution_count": 31,
      "outputs": [
        {
          "output_type": "stream",
          "text": [
            "Accuracy 0.9777777777777777\n"
          ],
          "name": "stdout"
        }
      ]
    },
    {
      "cell_type": "code",
      "metadata": {
        "id": "aB_kXZtFk-oA",
        "colab_type": "code",
        "colab": {}
      },
      "source": [
        "#Predicing values of random sample data\n",
        "import random\n",
        "\n",
        "sample = []\n",
        "\n",
        "sample_size = 10\n",
        "\n",
        "for i in range(sample_size):\n",
        "  sample.append(random.sample(range(1,7),4))\n",
        "\n",
        "\n",
        "predictions = classifier_knn.predict(sample)\n",
        "\n",
        "pred_iris = [iris.target_names[i] for i in predictions]\n"
      ],
      "execution_count": 41,
      "outputs": []
    },
    {
      "cell_type": "code",
      "metadata": {
        "id": "0SAdbFpSmNSa",
        "colab_type": "code",
        "colab": {
          "base_uri": "https://localhost:8080/",
          "height": 185
        },
        "outputId": "0a31fe37-58fd-4931-abec-817df117b60b"
      },
      "source": [
        "# Predicted values\n",
        "for i in range(sample_size):\n",
        "  print(sample[i],pred_iris[i])"
      ],
      "execution_count": 42,
      "outputs": [
        {
          "output_type": "stream",
          "text": [
            "[3, 2, 4, 5] virginica\n",
            "[4, 1, 6, 3] virginica\n",
            "[5, 2, 1, 6] versicolor\n",
            "[3, 6, 1, 2] setosa\n",
            "[4, 2, 3, 5] virginica\n",
            "[1, 6, 5, 2] versicolor\n",
            "[3, 5, 2, 4] setosa\n",
            "[2, 6, 4, 1] setosa\n",
            "[2, 1, 5, 4] virginica\n",
            "[2, 3, 1, 4] setosa\n"
          ],
          "name": "stdout"
        }
      ]
    },
    {
      "cell_type": "code",
      "metadata": {
        "id": "gZixOhHNmMen",
        "colab_type": "code",
        "colab": {}
      },
      "source": [
        ""
      ],
      "execution_count": null,
      "outputs": []
    }
  ]
}